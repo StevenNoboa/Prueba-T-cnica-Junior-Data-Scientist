{
 "cells": [
  {
   "cell_type": "markdown",
   "metadata": {},
   "source": [
    "## Aplicación y creación del Modelo de Machine Learning"
   ]
  },
  {
   "cell_type": "markdown",
   "metadata": {},
   "source": [
    "**Target:**\n",
    "- **`units_sold`**: número de unidades vendidas.\n",
    "\n",
    "**Features**\n",
    "- store_id: identificador único de la tienda.\n",
    "- location: ubicación de la tienda (Madrid: 0, Barcelona: 1, Sevilla: 2, Valencia: 3, Itinerante: 4, Online: 5, Bilbao: 6).\n",
    "- product_id: identificador único del producto.\n",
    "- category: categoría del producto(Electrodomesticos: 0, Electronica: 1, Hogar: 2).\n",
    "- product_price: precio del producto.\n",
    "- product_cost: costo del producto.\n",
    "- product_status: estado del producto (active: 0, paused: 1).\n",
    "- sale_month: mes de la venta.\n",
    "- sale_day: día del mes en que se realizó la venta.\n",
    "- sale_weekday: día de la semana en que se realizó la venta.\n",
    "- is_weekend: indicador de si la venta ocurrió en un fin de semana (1 = sí, 0 = no).\n",
    "- days_since_opening: días transcurridos desde la apertura de la tienda hasta la venta.\n",
    "- days_since_launch: días transcurridos desde el lanzamiento del producto hasta la venta."
   ]
  },
  {
   "cell_type": "markdown",
   "metadata": {},
   "source": [
    "### Librerías necesarias"
   ]
  },
  {
   "cell_type": "code",
   "execution_count": 20,
   "metadata": {},
   "outputs": [],
   "source": [
    "import pandas as pd\n",
    "import numpy as np\n",
    "\n",
    "import matplotlib.pyplot as plt\n",
    "import seaborn as sns\n",
    "\n",
    "\n",
    "from sklearn.pipeline import Pipeline\n",
    "from sklearn.metrics import mean_squared_error, mean_absolute_error, r2_score\n",
    "from sklearn.linear_model import LinearRegression\n",
    "from sklearn.ensemble import RandomForestRegressor, GradientBoostingRegressor\n",
    "from sklearn.preprocessing import StandardScaler\n",
    "from sklearn.feature_selection import SelectKBest, f_regression\n",
    "from sklearn.model_selection import GridSearchCV,train_test_split\n",
    "\n",
    "import pickle\n",
    "import yaml"
   ]
  },
  {
   "cell_type": "markdown",
   "metadata": {},
   "source": [
    "### DataFrame Final ML"
   ]
  },
  {
   "cell_type": "code",
   "execution_count": 3,
   "metadata": {},
   "outputs": [],
   "source": [
    "# Leemos el DataFrame Final\n",
    "df = pd.read_csv('..\\\\data\\\\df_final_ML.csv')"
   ]
  },
  {
   "cell_type": "markdown",
   "metadata": {},
   "source": [
    "### Sacamos X e Y . Además, dividimos en train y test:"
   ]
  },
  {
   "cell_type": "code",
   "execution_count": 5,
   "metadata": {},
   "outputs": [],
   "source": [
    "# Definimos x e y para el modelo\n",
    "X = df.drop(columns=[\"units_sold\"])\n",
    "y = df[\"units_sold\"]"
   ]
  },
  {
   "cell_type": "code",
   "execution_count": 6,
   "metadata": {},
   "outputs": [
    {
     "name": "stdout",
     "output_type": "stream",
     "text": [
      "Total features shape: (30, 13)\n",
      "Train features shape: (24, 13)\n",
      "Train target shape: (24,)\n",
      "Test features shape: (6, 13)\n",
      "Test target shape: (6,)\n"
     ]
    }
   ],
   "source": [
    "# Dividimos en x_train, x_test, y_train, y_test para entrenar y evaluar el modelo\n",
    "X_train, X_test, y_train, y_test = train_test_split(X, y, test_size=0.2, random_state=10)\n",
    "\n",
    "print(\"Total features shape:\", X.shape)\n",
    "print(\"Train features shape:\", X_train.shape)\n",
    "print(\"Train target shape:\", y_train.shape)\n",
    "print(\"Test features shape:\", X_test.shape)\n",
    "print(\"Test target shape:\", y_test.shape)"
   ]
  },
  {
   "cell_type": "code",
   "execution_count": 7,
   "metadata": {},
   "outputs": [
    {
     "name": "stdout",
     "output_type": "stream",
     "text": [
      "Distribución del Target en y:\n",
      " units_sold\n",
      "1    0.333333\n",
      "2    0.333333\n",
      "3    0.166667\n",
      "5    0.133333\n",
      "4    0.033333\n",
      "Name: proportion, dtype: float64\n",
      "-----------------------------------\n",
      "Distribución del Target en y_train:\n",
      " units_sold\n",
      "1    0.291667\n",
      "2    0.291667\n",
      "3    0.208333\n",
      "5    0.166667\n",
      "4    0.041667\n",
      "Name: proportion, dtype: float64\n",
      "-----------------------------------\n",
      "Distribución del Target en y_test:\n",
      " units_sold\n",
      "1    0.5\n",
      "2    0.5\n",
      "Name: proportion, dtype: float64\n"
     ]
    }
   ],
   "source": [
    "print(\"Distribución del Target en y:\\n\", y.value_counts(normalize=True))\n",
    "print(\"-\"*35)\n",
    "print(\"Distribución del Target en y_train:\\n\", y_train.value_counts(normalize=True))\n",
    "print(\"-\"*35)\n",
    "print(\"Distribución del Target en y_test:\\n\", y_test.value_counts(normalize=True))"
   ]
  },
  {
   "cell_type": "markdown",
   "metadata": {},
   "source": [
    "### Escalamos los datos\n",
    "Escalar los datos equilibra la importancia de las características al ponerlas en el mismo rango, evitando que una con valores grandes domine el modelo. Así también, acelera la convergencia del entrenamiento y mejora la estabilidad numérica."
   ]
  },
  {
   "cell_type": "code",
   "execution_count": null,
   "metadata": {},
   "outputs": [
    {
     "name": "stdout",
     "output_type": "stream",
     "text": [
      "Train features shape: (24, 13)\n",
      "Test features shape: (6, 13)\n"
     ]
    }
   ],
   "source": [
    "# Escalamos los datos de X_train y X_test \n",
    "scaler = StandardScaler()\n",
    "X_train_scaled = scaler.fit_transform(X_train)\n",
    "X_test_scaled = scaler.transform(X_test)\n",
    "\n",
    "# \n",
    "print(\"Train_caled features shape:\", X_train_scaled.shape)\n",
    "print(\"Test_scaled features shape:\", X_test_scaled.shape)"
   ]
  },
  {
   "cell_type": "markdown",
   "metadata": {},
   "source": [
    "### Modelos:\n",
    "- Linear Regression  \n",
    "- Random Forest      \n",
    "- Gradient Boosting\n"
   ]
  },
  {
   "cell_type": "markdown",
   "metadata": {},
   "source": [
    "### Hiperparametrizamos y entrenamos el modelo"
   ]
  },
  {
   "cell_type": "markdown",
   "metadata": {},
   "source": [
    "GridSearch & Pipelines\n",
    "- GridSearch es una herramienta de optimización que usamos cuando ajustamos hiperparámetros. Definimos la cuadrícula(grid) de parámetros que queremos buscar y seleccionamos la mejor combinación de parámetros para nuestros datos."
   ]
  },
  {
   "cell_type": "code",
   "execution_count": 21,
   "metadata": {},
   "outputs": [],
   "source": [
    "# Definimos el Pipeline base\n",
    "pipe = Pipeline(steps=[\n",
    "    (\"scaler\", StandardScaler()),\n",
    "    (\"selectkbest\", SelectKBest(score_func=f_regression)),\n",
    "    (\"regressor\", LinearRegression())\n",
    "])\n",
    "\n",
    "# Establecemos el espacio de búsqueda para GridSearchCV\n",
    "linear_params = {\n",
    "    'regressor': [LinearRegression()],\n",
    "    'selectkbest__k': np.arange(5, 13),  # Número de características a seleccionar\n",
    "}\n",
    "\n",
    "random_forest_params = {\n",
    "    'regressor': [RandomForestRegressor(random_state=10)],\n",
    "    'selectkbest__k': np.arange(5, 13),\n",
    "    'regressor__n_estimators': [50, 100, 200],\n",
    "    'regressor__max_features': ['sqrt', 'log2'],\n",
    "    'regressor__max_depth': [3, 5, 7]\n",
    "}\n",
    "\n",
    "gradient_boosting_params = {\n",
    "    'regressor': [GradientBoostingRegressor(random_state=10)],\n",
    "    'selectkbest__k': np.arange(5, 13),\n",
    "    'regressor__n_estimators': [50, 100, 200],\n",
    "    'regressor__learning_rate': [0.01, 0.1, 0.2],\n",
    "    'regressor__max_depth': [3, 5, 7]\n",
    "}\n",
    "\n",
    "search_space = [\n",
    "    linear_params,\n",
    "    random_forest_params,\n",
    "    gradient_boosting_params\n",
    "]\n"
   ]
  },
  {
   "cell_type": "code",
   "execution_count": 33,
   "metadata": {},
   "outputs": [
    {
     "name": "stdout",
     "output_type": "stream",
     "text": [
      "Fitting 10 folds for each of 368 candidates, totalling 3680 fits\n"
     ]
    },
    {
     "data": {
      "text/html": [
       "<style>#sk-container-id-2 {color: black;}#sk-container-id-2 pre{padding: 0;}#sk-container-id-2 div.sk-toggleable {background-color: white;}#sk-container-id-2 label.sk-toggleable__label {cursor: pointer;display: block;width: 100%;margin-bottom: 0;padding: 0.3em;box-sizing: border-box;text-align: center;}#sk-container-id-2 label.sk-toggleable__label-arrow:before {content: \"▸\";float: left;margin-right: 0.25em;color: #696969;}#sk-container-id-2 label.sk-toggleable__label-arrow:hover:before {color: black;}#sk-container-id-2 div.sk-estimator:hover label.sk-toggleable__label-arrow:before {color: black;}#sk-container-id-2 div.sk-toggleable__content {max-height: 0;max-width: 0;overflow: hidden;text-align: left;background-color: #f0f8ff;}#sk-container-id-2 div.sk-toggleable__content pre {margin: 0.2em;color: black;border-radius: 0.25em;background-color: #f0f8ff;}#sk-container-id-2 input.sk-toggleable__control:checked~div.sk-toggleable__content {max-height: 200px;max-width: 100%;overflow: auto;}#sk-container-id-2 input.sk-toggleable__control:checked~label.sk-toggleable__label-arrow:before {content: \"▾\";}#sk-container-id-2 div.sk-estimator input.sk-toggleable__control:checked~label.sk-toggleable__label {background-color: #d4ebff;}#sk-container-id-2 div.sk-label input.sk-toggleable__control:checked~label.sk-toggleable__label {background-color: #d4ebff;}#sk-container-id-2 input.sk-hidden--visually {border: 0;clip: rect(1px 1px 1px 1px);clip: rect(1px, 1px, 1px, 1px);height: 1px;margin: -1px;overflow: hidden;padding: 0;position: absolute;width: 1px;}#sk-container-id-2 div.sk-estimator {font-family: monospace;background-color: #f0f8ff;border: 1px dotted black;border-radius: 0.25em;box-sizing: border-box;margin-bottom: 0.5em;}#sk-container-id-2 div.sk-estimator:hover {background-color: #d4ebff;}#sk-container-id-2 div.sk-parallel-item::after {content: \"\";width: 100%;border-bottom: 1px solid gray;flex-grow: 1;}#sk-container-id-2 div.sk-label:hover label.sk-toggleable__label {background-color: #d4ebff;}#sk-container-id-2 div.sk-serial::before {content: \"\";position: absolute;border-left: 1px solid gray;box-sizing: border-box;top: 0;bottom: 0;left: 50%;z-index: 0;}#sk-container-id-2 div.sk-serial {display: flex;flex-direction: column;align-items: center;background-color: white;padding-right: 0.2em;padding-left: 0.2em;position: relative;}#sk-container-id-2 div.sk-item {position: relative;z-index: 1;}#sk-container-id-2 div.sk-parallel {display: flex;align-items: stretch;justify-content: center;background-color: white;position: relative;}#sk-container-id-2 div.sk-item::before, #sk-container-id-2 div.sk-parallel-item::before {content: \"\";position: absolute;border-left: 1px solid gray;box-sizing: border-box;top: 0;bottom: 0;left: 50%;z-index: -1;}#sk-container-id-2 div.sk-parallel-item {display: flex;flex-direction: column;z-index: 1;position: relative;background-color: white;}#sk-container-id-2 div.sk-parallel-item:first-child::after {align-self: flex-end;width: 50%;}#sk-container-id-2 div.sk-parallel-item:last-child::after {align-self: flex-start;width: 50%;}#sk-container-id-2 div.sk-parallel-item:only-child::after {width: 0;}#sk-container-id-2 div.sk-dashed-wrapped {border: 1px dashed gray;margin: 0 0.4em 0.5em 0.4em;box-sizing: border-box;padding-bottom: 0.4em;background-color: white;}#sk-container-id-2 div.sk-label label {font-family: monospace;font-weight: bold;display: inline-block;line-height: 1.2em;}#sk-container-id-2 div.sk-label-container {text-align: center;}#sk-container-id-2 div.sk-container {/* jupyter's `normalize.less` sets `[hidden] { display: none; }` but bootstrap.min.css set `[hidden] { display: none !important; }` so we also need the `!important` here to be able to override the default hidden behavior on the sphinx rendered scikit-learn.org. See: https://github.com/scikit-learn/scikit-learn/issues/21755 */display: inline-block !important;position: relative;}#sk-container-id-2 div.sk-text-repr-fallback {display: none;}</style><div id=\"sk-container-id-2\" class=\"sk-top-container\"><div class=\"sk-text-repr-fallback\"><pre>GridSearchCV(cv=10,\n",
       "             estimator=Pipeline(steps=[(&#x27;scaler&#x27;, StandardScaler()),\n",
       "                                       (&#x27;selectkbest&#x27;,\n",
       "                                        SelectKBest(score_func=&lt;function f_regression at 0x00000239570C8E00&gt;)),\n",
       "                                       (&#x27;regressor&#x27;, LinearRegression())]),\n",
       "             n_jobs=-1,\n",
       "             param_grid=[{&#x27;regressor&#x27;: [LinearRegression()],\n",
       "                          &#x27;selectkbest__k&#x27;: array([ 5,  6,  7,  8,  9, 10, 11, 12])},\n",
       "                         {&#x27;regressor&#x27;: [RandomForestRegressor(random_state=10)],\n",
       "                          &#x27;re...\n",
       "                          &#x27;regressor__max_features&#x27;: [&#x27;sqrt&#x27;, &#x27;log2&#x27;],\n",
       "                          &#x27;regressor__n_estimators&#x27;: [50, 100, 200],\n",
       "                          &#x27;selectkbest__k&#x27;: array([ 5,  6,  7,  8,  9, 10, 11, 12])},\n",
       "                         {&#x27;regressor&#x27;: [GradientBoostingRegressor(random_state=10)],\n",
       "                          &#x27;regressor__learning_rate&#x27;: [0.01, 0.1, 0.2],\n",
       "                          &#x27;regressor__max_depth&#x27;: [3, 5, 7],\n",
       "                          &#x27;regressor__n_estimators&#x27;: [50, 100, 200],\n",
       "                          &#x27;selectkbest__k&#x27;: array([ 5,  6,  7,  8,  9, 10, 11, 12])}],\n",
       "             scoring=&#x27;neg_mean_squared_error&#x27;, verbose=3)</pre><b>In a Jupyter environment, please rerun this cell to show the HTML representation or trust the notebook. <br />On GitHub, the HTML representation is unable to render, please try loading this page with nbviewer.org.</b></div><div class=\"sk-container\" hidden><div class=\"sk-item sk-dashed-wrapped\"><div class=\"sk-label-container\"><div class=\"sk-label sk-toggleable\"><input class=\"sk-toggleable__control sk-hidden--visually\" id=\"sk-estimator-id-6\" type=\"checkbox\" ><label for=\"sk-estimator-id-6\" class=\"sk-toggleable__label sk-toggleable__label-arrow\">GridSearchCV</label><div class=\"sk-toggleable__content\"><pre>GridSearchCV(cv=10,\n",
       "             estimator=Pipeline(steps=[(&#x27;scaler&#x27;, StandardScaler()),\n",
       "                                       (&#x27;selectkbest&#x27;,\n",
       "                                        SelectKBest(score_func=&lt;function f_regression at 0x00000239570C8E00&gt;)),\n",
       "                                       (&#x27;regressor&#x27;, LinearRegression())]),\n",
       "             n_jobs=-1,\n",
       "             param_grid=[{&#x27;regressor&#x27;: [LinearRegression()],\n",
       "                          &#x27;selectkbest__k&#x27;: array([ 5,  6,  7,  8,  9, 10, 11, 12])},\n",
       "                         {&#x27;regressor&#x27;: [RandomForestRegressor(random_state=10)],\n",
       "                          &#x27;re...\n",
       "                          &#x27;regressor__max_features&#x27;: [&#x27;sqrt&#x27;, &#x27;log2&#x27;],\n",
       "                          &#x27;regressor__n_estimators&#x27;: [50, 100, 200],\n",
       "                          &#x27;selectkbest__k&#x27;: array([ 5,  6,  7,  8,  9, 10, 11, 12])},\n",
       "                         {&#x27;regressor&#x27;: [GradientBoostingRegressor(random_state=10)],\n",
       "                          &#x27;regressor__learning_rate&#x27;: [0.01, 0.1, 0.2],\n",
       "                          &#x27;regressor__max_depth&#x27;: [3, 5, 7],\n",
       "                          &#x27;regressor__n_estimators&#x27;: [50, 100, 200],\n",
       "                          &#x27;selectkbest__k&#x27;: array([ 5,  6,  7,  8,  9, 10, 11, 12])}],\n",
       "             scoring=&#x27;neg_mean_squared_error&#x27;, verbose=3)</pre></div></div></div><div class=\"sk-parallel\"><div class=\"sk-parallel-item\"><div class=\"sk-item\"><div class=\"sk-label-container\"><div class=\"sk-label sk-toggleable\"><input class=\"sk-toggleable__control sk-hidden--visually\" id=\"sk-estimator-id-7\" type=\"checkbox\" ><label for=\"sk-estimator-id-7\" class=\"sk-toggleable__label sk-toggleable__label-arrow\">estimator: Pipeline</label><div class=\"sk-toggleable__content\"><pre>Pipeline(steps=[(&#x27;scaler&#x27;, StandardScaler()),\n",
       "                (&#x27;selectkbest&#x27;,\n",
       "                 SelectKBest(score_func=&lt;function f_regression at 0x00000239570C8E00&gt;)),\n",
       "                (&#x27;regressor&#x27;, LinearRegression())])</pre></div></div></div><div class=\"sk-serial\"><div class=\"sk-item\"><div class=\"sk-serial\"><div class=\"sk-item\"><div class=\"sk-estimator sk-toggleable\"><input class=\"sk-toggleable__control sk-hidden--visually\" id=\"sk-estimator-id-8\" type=\"checkbox\" ><label for=\"sk-estimator-id-8\" class=\"sk-toggleable__label sk-toggleable__label-arrow\">StandardScaler</label><div class=\"sk-toggleable__content\"><pre>StandardScaler()</pre></div></div></div><div class=\"sk-item\"><div class=\"sk-estimator sk-toggleable\"><input class=\"sk-toggleable__control sk-hidden--visually\" id=\"sk-estimator-id-9\" type=\"checkbox\" ><label for=\"sk-estimator-id-9\" class=\"sk-toggleable__label sk-toggleable__label-arrow\">SelectKBest</label><div class=\"sk-toggleable__content\"><pre>SelectKBest(score_func=&lt;function f_regression at 0x00000239570C8E00&gt;)</pre></div></div></div><div class=\"sk-item\"><div class=\"sk-estimator sk-toggleable\"><input class=\"sk-toggleable__control sk-hidden--visually\" id=\"sk-estimator-id-10\" type=\"checkbox\" ><label for=\"sk-estimator-id-10\" class=\"sk-toggleable__label sk-toggleable__label-arrow\">LinearRegression</label><div class=\"sk-toggleable__content\"><pre>LinearRegression()</pre></div></div></div></div></div></div></div></div></div></div></div></div>"
      ],
      "text/plain": [
       "GridSearchCV(cv=10,\n",
       "             estimator=Pipeline(steps=[('scaler', StandardScaler()),\n",
       "                                       ('selectkbest',\n",
       "                                        SelectKBest(score_func=<function f_regression at 0x00000239570C8E00>)),\n",
       "                                       ('regressor', LinearRegression())]),\n",
       "             n_jobs=-1,\n",
       "             param_grid=[{'regressor': [LinearRegression()],\n",
       "                          'selectkbest__k': array([ 5,  6,  7,  8,  9, 10, 11, 12])},\n",
       "                         {'regressor': [RandomForestRegressor(random_state=10)],\n",
       "                          're...\n",
       "                          'regressor__max_features': ['sqrt', 'log2'],\n",
       "                          'regressor__n_estimators': [50, 100, 200],\n",
       "                          'selectkbest__k': array([ 5,  6,  7,  8,  9, 10, 11, 12])},\n",
       "                         {'regressor': [GradientBoostingRegressor(random_state=10)],\n",
       "                          'regressor__learning_rate': [0.01, 0.1, 0.2],\n",
       "                          'regressor__max_depth': [3, 5, 7],\n",
       "                          'regressor__n_estimators': [50, 100, 200],\n",
       "                          'selectkbest__k': array([ 5,  6,  7,  8,  9, 10, 11, 12])}],\n",
       "             scoring='neg_mean_squared_error', verbose=3)"
      ]
     },
     "execution_count": 33,
     "metadata": {},
     "output_type": "execute_result"
    }
   ],
   "source": [
    "# Configuramos el GridSearchCV\n",
    "reg_gs = GridSearchCV(\n",
    "    estimator=pipe,\n",
    "    param_grid=search_space,\n",
    "    cv=10,  \n",
    "    scoring=\"neg_mean_squared_error\",  # métrica de evaluación\n",
    "    verbose=3,\n",
    "    n_jobs=-1  \n",
    ")\n",
    "\n",
    "# Entrenamiento\n",
    "reg_gs.fit(X_train_scaled, y_train)"
   ]
  },
  {
   "cell_type": "markdown",
   "metadata": {},
   "source": [
    "- Resultados"
   ]
  },
  {
   "cell_type": "code",
   "execution_count": 62,
   "metadata": {},
   "outputs": [
    {
     "name": "stdout",
     "output_type": "stream",
     "text": [
      "Mejor estimador: Pipeline(steps=[('scaler', StandardScaler()),\n",
      "                ('selectkbest',\n",
      "                 SelectKBest(k=12,\n",
      "                             score_func=<function f_regression at 0x00000239570C8E00>)),\n",
      "                ('regressor',\n",
      "                 RandomForestRegressor(max_depth=3, max_features='sqrt',\n",
      "                                       n_estimators=50, random_state=10))])\n",
      "Mejor puntaje (MSE negativo): -2.601316813367344\n",
      "Mejores parámetros: {'regressor': RandomForestRegressor(random_state=10), 'regressor__max_depth': 3, 'regressor__max_features': 'sqrt', 'regressor__n_estimators': 50, 'selectkbest__k': 12}\n"
     ]
    }
   ],
   "source": [
    "# Mejores resultados\n",
    "print(\"Mejor estimador:\", reg_gs.best_estimator_)\n",
    "print(\"Mejor puntaje (MSE negativo):\", reg_gs.best_score_)  # Lo invertimos porque MSE es negativo\n",
    "print(\"Mejores parámetros:\", reg_gs.best_params_)"
   ]
  },
  {
   "cell_type": "code",
   "execution_count": 61,
   "metadata": {},
   "outputs": [
    {
     "name": "stdout",
     "output_type": "stream",
     "text": [
      "Mean Squared Error: 1.9486085658625418\n",
      "Mean Absolute Error: 1.1572662985162985\n",
      "R2 Score: -6.794434263450167\n"
     ]
    }
   ],
   "source": [
    "# Modelo final con mejores parámetros\n",
    "final_model = reg_gs.best_estimator_\n",
    "final_model.fit(X_train_scaled, y_train)\n",
    "y_pred = final_model.predict(X_test_scaled)\n",
    "\n",
    "# Métricas de evaluación para regresión\n",
    "print(\"Mean Squared Error:\", mean_squared_error(y_test, y_pred))\n",
    "print(\"Mean Absolute Error:\", mean_absolute_error(y_test, y_pred))\n",
    "print(\"R2 Score:\", r2_score(y_test, y_pred))"
   ]
  },
  {
   "cell_type": "code",
   "execution_count": 56,
   "metadata": {},
   "outputs": [
    {
     "name": "stdout",
     "output_type": "stream",
     "text": [
      "Características seleccionadas: ['store_id', 'location', 'product_id', 'category', 'product_price', 'product_cost', 'product_status', 'sale_month', 'sale_day', 'is_weekend', 'days_since_opening', 'days_since_launch']\n"
     ]
    }
   ],
   "source": [
    "# Obtenemos el paso \"selectkbest\" del mejor pipeline\n",
    "best_selectkbest = reg_gs.best_estimator_.named_steps['selectkbest']\n",
    "# Obtenemos los nombres de las características seleccionadas\n",
    "selected_features = X_train.columns[best_selectkbest.get_support()]\n",
    "\n",
    "print(\"Características seleccionadas:\", selected_features.tolist())"
   ]
  },
  {
   "cell_type": "code",
   "execution_count": 64,
   "metadata": {},
   "outputs": [
    {
     "data": {
      "text/plain": [
       "array([0.08323827, 0.08194806, 0.10801047, 0.01946812, 0.04675109,\n",
       "       0.098006  , 0.01053619, 0.11372264, 0.16830179, 0.01291786,\n",
       "       0.15907176, 0.09802774])"
      ]
     },
     "execution_count": 64,
     "metadata": {},
     "output_type": "execute_result"
    }
   ],
   "source": [
    "# Obtenemos el mejor modelo (regresor) del pipeline ajustado\n",
    "best_classifier = reg_gs.best_estimator_.named_steps['regressor']\n",
    "# Extraemos las importancias de las características del modelo:\n",
    "feature_importances = best_classifier.feature_importances_\n",
    "feature_importances"
   ]
  },
  {
   "cell_type": "code",
   "execution_count": 63,
   "metadata": {},
   "outputs": [
    {
     "data": {
      "text/html": [
       "<div>\n",
       "<style scoped>\n",
       "    .dataframe tbody tr th:only-of-type {\n",
       "        vertical-align: middle;\n",
       "    }\n",
       "\n",
       "    .dataframe tbody tr th {\n",
       "        vertical-align: top;\n",
       "    }\n",
       "\n",
       "    .dataframe thead th {\n",
       "        text-align: right;\n",
       "    }\n",
       "</style>\n",
       "<table border=\"1\" class=\"dataframe\">\n",
       "  <thead>\n",
       "    <tr style=\"text-align: right;\">\n",
       "      <th></th>\n",
       "      <th>Feature</th>\n",
       "      <th>Importance</th>\n",
       "    </tr>\n",
       "  </thead>\n",
       "  <tbody>\n",
       "    <tr>\n",
       "      <th>8</th>\n",
       "      <td>sale_day</td>\n",
       "      <td>0.168302</td>\n",
       "    </tr>\n",
       "    <tr>\n",
       "      <th>10</th>\n",
       "      <td>days_since_opening</td>\n",
       "      <td>0.159072</td>\n",
       "    </tr>\n",
       "    <tr>\n",
       "      <th>7</th>\n",
       "      <td>sale_month</td>\n",
       "      <td>0.113723</td>\n",
       "    </tr>\n",
       "    <tr>\n",
       "      <th>2</th>\n",
       "      <td>product_id</td>\n",
       "      <td>0.108010</td>\n",
       "    </tr>\n",
       "    <tr>\n",
       "      <th>11</th>\n",
       "      <td>days_since_launch</td>\n",
       "      <td>0.098028</td>\n",
       "    </tr>\n",
       "    <tr>\n",
       "      <th>5</th>\n",
       "      <td>product_cost</td>\n",
       "      <td>0.098006</td>\n",
       "    </tr>\n",
       "    <tr>\n",
       "      <th>0</th>\n",
       "      <td>store_id</td>\n",
       "      <td>0.083238</td>\n",
       "    </tr>\n",
       "    <tr>\n",
       "      <th>1</th>\n",
       "      <td>location</td>\n",
       "      <td>0.081948</td>\n",
       "    </tr>\n",
       "    <tr>\n",
       "      <th>4</th>\n",
       "      <td>product_price</td>\n",
       "      <td>0.046751</td>\n",
       "    </tr>\n",
       "    <tr>\n",
       "      <th>3</th>\n",
       "      <td>category</td>\n",
       "      <td>0.019468</td>\n",
       "    </tr>\n",
       "    <tr>\n",
       "      <th>9</th>\n",
       "      <td>is_weekend</td>\n",
       "      <td>0.012918</td>\n",
       "    </tr>\n",
       "    <tr>\n",
       "      <th>6</th>\n",
       "      <td>product_status</td>\n",
       "      <td>0.010536</td>\n",
       "    </tr>\n",
       "  </tbody>\n",
       "</table>\n",
       "</div>"
      ],
      "text/plain": [
       "               Feature  Importance\n",
       "8             sale_day    0.168302\n",
       "10  days_since_opening    0.159072\n",
       "7           sale_month    0.113723\n",
       "2           product_id    0.108010\n",
       "11   days_since_launch    0.098028\n",
       "5         product_cost    0.098006\n",
       "0             store_id    0.083238\n",
       "1             location    0.081948\n",
       "4        product_price    0.046751\n",
       "3             category    0.019468\n",
       "9           is_weekend    0.012918\n",
       "6       product_status    0.010536"
      ]
     },
     "execution_count": 63,
     "metadata": {},
     "output_type": "execute_result"
    }
   ],
   "source": [
    "# Creamos un DataFrame con las columnas \"Feature\" y \"Importance\":\n",
    "feature_importance_df = pd.DataFrame({'Feature': selected_features, 'Importance': feature_importances})\n",
    "# Ordenamos las características por importancia en orden descendente para identificar cuáles tienen mayor influencia en las predicciones del modelo\n",
    "feature_importance_df = feature_importance_df.sort_values(by='Importance', ascending=False)\n",
    "feature_importance_df"
   ]
  },
  {
   "cell_type": "code",
   "execution_count": 65,
   "metadata": {},
   "outputs": [
    {
     "data": {
      "image/png": "[encoded data removed]",
      "text/plain": [
       "<Figure size 1200x800 with 1 Axes>"
      ]
     },
     "metadata": {},
     "output_type": "display_data"
    }
   ],
   "source": [
    "# Gráfico de barras de la importancia de las características seleccionadas\n",
    "plt.figure(figsize=(12, 8))\n",
    "sns.barplot(x='Importance', y='Feature', data=feature_importance_df, palette='viridis')\n",
    "plt.title('Importancia de las Características Seleccionadas')\n",
    "plt.xlabel('Importancia')\n",
    "plt.ylabel('Característica');"
   ]
  },
  {
   "cell_type": "markdown",
   "metadata": {},
   "source": [
    "### Guardamos el modelo"
   ]
  },
  {
   "cell_type": "code",
   "execution_count": 68,
   "metadata": {},
   "outputs": [],
   "source": [
    "# Guardamos el modelo final en un archivo .pkl\n",
    "filename = '..\\\\models\\\\final_model_gs'\n",
    "\n",
    "with open(filename, 'wb') as archivo_salida:\n",
    "    pickle.dump(final_model, archivo_salida)"
   ]
  },
  {
   "cell_type": "code",
   "execution_count": 69,
   "metadata": {},
   "outputs": [],
   "source": [
    "# Guradamos la información del modelo en un archivo .yaml\n",
    "model_info = {'regressor': RandomForestRegressor(random_state=10), 'regressor__max_depth': 3, 'regressor__max_features': 'sqrt', 'regressor__n_estimators': 50, 'selectkbest__k': 12}\n",
    "\n",
    "with open('..\\\\models\\\\final_model_gs.yaml', 'w') as yaml_file:\n",
    "    yaml.dump(model_info, yaml_file)"
   ]
  },
  {
   "cell_type": "markdown",
   "metadata": {},
   "source": [
    "### Para importar el modelo"
   ]
  },
  {
   "cell_type": "code",
   "execution_count": 70,
   "metadata": {},
   "outputs": [],
   "source": [
    "filename = '..\\\\models\\\\final_model_gs'\n",
    "with open(filename, 'rb') as archivo_entrada:\n",
    "    modelo_importado = pickle.load(archivo_entrada)"
   ]
  },
  {
   "cell_type": "code",
   "execution_count": 71,
   "metadata": {},
   "outputs": [
    {
     "data": {
      "text/html": [
       "<style>#sk-container-id-3 {color: black;}#sk-container-id-3 pre{padding: 0;}#sk-container-id-3 div.sk-toggleable {background-color: white;}#sk-container-id-3 label.sk-toggleable__label {cursor: pointer;display: block;width: 100%;margin-bottom: 0;padding: 0.3em;box-sizing: border-box;text-align: center;}#sk-container-id-3 label.sk-toggleable__label-arrow:before {content: \"▸\";float: left;margin-right: 0.25em;color: #696969;}#sk-container-id-3 label.sk-toggleable__label-arrow:hover:before {color: black;}#sk-container-id-3 div.sk-estimator:hover label.sk-toggleable__label-arrow:before {color: black;}#sk-container-id-3 div.sk-toggleable__content {max-height: 0;max-width: 0;overflow: hidden;text-align: left;background-color: #f0f8ff;}#sk-container-id-3 div.sk-toggleable__content pre {margin: 0.2em;color: black;border-radius: 0.25em;background-color: #f0f8ff;}#sk-container-id-3 input.sk-toggleable__control:checked~div.sk-toggleable__content {max-height: 200px;max-width: 100%;overflow: auto;}#sk-container-id-3 input.sk-toggleable__control:checked~label.sk-toggleable__label-arrow:before {content: \"▾\";}#sk-container-id-3 div.sk-estimator input.sk-toggleable__control:checked~label.sk-toggleable__label {background-color: #d4ebff;}#sk-container-id-3 div.sk-label input.sk-toggleable__control:checked~label.sk-toggleable__label {background-color: #d4ebff;}#sk-container-id-3 input.sk-hidden--visually {border: 0;clip: rect(1px 1px 1px 1px);clip: rect(1px, 1px, 1px, 1px);height: 1px;margin: -1px;overflow: hidden;padding: 0;position: absolute;width: 1px;}#sk-container-id-3 div.sk-estimator {font-family: monospace;background-color: #f0f8ff;border: 1px dotted black;border-radius: 0.25em;box-sizing: border-box;margin-bottom: 0.5em;}#sk-container-id-3 div.sk-estimator:hover {background-color: #d4ebff;}#sk-container-id-3 div.sk-parallel-item::after {content: \"\";width: 100%;border-bottom: 1px solid gray;flex-grow: 1;}#sk-container-id-3 div.sk-label:hover label.sk-toggleable__label {background-color: #d4ebff;}#sk-container-id-3 div.sk-serial::before {content: \"\";position: absolute;border-left: 1px solid gray;box-sizing: border-box;top: 0;bottom: 0;left: 50%;z-index: 0;}#sk-container-id-3 div.sk-serial {display: flex;flex-direction: column;align-items: center;background-color: white;padding-right: 0.2em;padding-left: 0.2em;position: relative;}#sk-container-id-3 div.sk-item {position: relative;z-index: 1;}#sk-container-id-3 div.sk-parallel {display: flex;align-items: stretch;justify-content: center;background-color: white;position: relative;}#sk-container-id-3 div.sk-item::before, #sk-container-id-3 div.sk-parallel-item::before {content: \"\";position: absolute;border-left: 1px solid gray;box-sizing: border-box;top: 0;bottom: 0;left: 50%;z-index: -1;}#sk-container-id-3 div.sk-parallel-item {display: flex;flex-direction: column;z-index: 1;position: relative;background-color: white;}#sk-container-id-3 div.sk-parallel-item:first-child::after {align-self: flex-end;width: 50%;}#sk-container-id-3 div.sk-parallel-item:last-child::after {align-self: flex-start;width: 50%;}#sk-container-id-3 div.sk-parallel-item:only-child::after {width: 0;}#sk-container-id-3 div.sk-dashed-wrapped {border: 1px dashed gray;margin: 0 0.4em 0.5em 0.4em;box-sizing: border-box;padding-bottom: 0.4em;background-color: white;}#sk-container-id-3 div.sk-label label {font-family: monospace;font-weight: bold;display: inline-block;line-height: 1.2em;}#sk-container-id-3 div.sk-label-container {text-align: center;}#sk-container-id-3 div.sk-container {/* jupyter's `normalize.less` sets `[hidden] { display: none; }` but bootstrap.min.css set `[hidden] { display: none !important; }` so we also need the `!important` here to be able to override the default hidden behavior on the sphinx rendered scikit-learn.org. See: https://github.com/scikit-learn/scikit-learn/issues/21755 */display: inline-block !important;position: relative;}#sk-container-id-3 div.sk-text-repr-fallback {display: none;}</style><div id=\"sk-container-id-3\" class=\"sk-top-container\"><div class=\"sk-text-repr-fallback\"><pre>Pipeline(steps=[(&#x27;scaler&#x27;, StandardScaler()),\n",
       "                (&#x27;selectkbest&#x27;,\n",
       "                 SelectKBest(k=12,\n",
       "                             score_func=&lt;function f_regression at 0x00000239570C8E00&gt;)),\n",
       "                (&#x27;regressor&#x27;,\n",
       "                 RandomForestRegressor(max_depth=3, max_features=&#x27;sqrt&#x27;,\n",
       "                                       n_estimators=50, random_state=10))])</pre><b>In a Jupyter environment, please rerun this cell to show the HTML representation or trust the notebook. <br />On GitHub, the HTML representation is unable to render, please try loading this page with nbviewer.org.</b></div><div class=\"sk-container\" hidden><div class=\"sk-item sk-dashed-wrapped\"><div class=\"sk-label-container\"><div class=\"sk-label sk-toggleable\"><input class=\"sk-toggleable__control sk-hidden--visually\" id=\"sk-estimator-id-11\" type=\"checkbox\" ><label for=\"sk-estimator-id-11\" class=\"sk-toggleable__label sk-toggleable__label-arrow\">Pipeline</label><div class=\"sk-toggleable__content\"><pre>Pipeline(steps=[(&#x27;scaler&#x27;, StandardScaler()),\n",
       "                (&#x27;selectkbest&#x27;,\n",
       "                 SelectKBest(k=12,\n",
       "                             score_func=&lt;function f_regression at 0x00000239570C8E00&gt;)),\n",
       "                (&#x27;regressor&#x27;,\n",
       "                 RandomForestRegressor(max_depth=3, max_features=&#x27;sqrt&#x27;,\n",
       "                                       n_estimators=50, random_state=10))])</pre></div></div></div><div class=\"sk-serial\"><div class=\"sk-item\"><div class=\"sk-estimator sk-toggleable\"><input class=\"sk-toggleable__control sk-hidden--visually\" id=\"sk-estimator-id-12\" type=\"checkbox\" ><label for=\"sk-estimator-id-12\" class=\"sk-toggleable__label sk-toggleable__label-arrow\">StandardScaler</label><div class=\"sk-toggleable__content\"><pre>StandardScaler()</pre></div></div></div><div class=\"sk-item\"><div class=\"sk-estimator sk-toggleable\"><input class=\"sk-toggleable__control sk-hidden--visually\" id=\"sk-estimator-id-13\" type=\"checkbox\" ><label for=\"sk-estimator-id-13\" class=\"sk-toggleable__label sk-toggleable__label-arrow\">SelectKBest</label><div class=\"sk-toggleable__content\"><pre>SelectKBest(k=12, score_func=&lt;function f_regression at 0x00000239570C8E00&gt;)</pre></div></div></div><div class=\"sk-item\"><div class=\"sk-estimator sk-toggleable\"><input class=\"sk-toggleable__control sk-hidden--visually\" id=\"sk-estimator-id-14\" type=\"checkbox\" ><label for=\"sk-estimator-id-14\" class=\"sk-toggleable__label sk-toggleable__label-arrow\">RandomForestRegressor</label><div class=\"sk-toggleable__content\"><pre>RandomForestRegressor(max_depth=3, max_features=&#x27;sqrt&#x27;, n_estimators=50,\n",
       "                      random_state=10)</pre></div></div></div></div></div></div></div>"
      ],
      "text/plain": [
       "Pipeline(steps=[('scaler', StandardScaler()),\n",
       "                ('selectkbest',\n",
       "                 SelectKBest(k=12,\n",
       "                             score_func=<function f_regression at 0x00000239570C8E00>)),\n",
       "                ('regressor',\n",
       "                 RandomForestRegressor(max_depth=3, max_features='sqrt',\n",
       "                                       n_estimators=50, random_state=10))])"
      ]
     },
     "execution_count": 71,
     "metadata": {},
     "output_type": "execute_result"
    }
   ],
   "source": [
    "modelo_importado"
   ]
  }
 ],
 "metadata": {
  "kernelspec": {
   "display_name": "Python 3",
   "language": "python",
   "name": "python3"
  },
  "language_info": {
   "codemirror_mode": {
    "name": "ipython",
    "version": 3
   },
   "file_extension": ".py",
   "mimetype": "text/x-python",
   "name": "python",
   "nbconvert_exporter": "python",
   "pygments_lexer": "ipython3",
   "version": "3.11.5"
  }
 },
 "nbformat": 4,
 "nbformat_minor": 2
}
